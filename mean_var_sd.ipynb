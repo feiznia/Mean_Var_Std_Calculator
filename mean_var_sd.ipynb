{
 "cells": [
  {
   "cell_type": "code",
   "execution_count": 23,
   "metadata": {},
   "outputs": [
    {
     "data": {
      "text/plain": [
       "{'mean': [array([3., 4., 5.]), array([1., 4., 7.]), 4.0],\n",
       " 'variance': [array([6., 6., 6.]),\n",
       "  array([0.66666667, 0.66666667, 0.66666667]),\n",
       "  6.666666666666667],\n",
       " 'standard deviation': [array([2.44948974, 2.44948974, 2.44948974]),\n",
       "  array([0.81649658, 0.81649658, 0.81649658]),\n",
       "  2.581988897471611],\n",
       " 'max': [array([6, 7, 8]), array([2, 5, 8]), 8],\n",
       " 'min': [array([0, 1, 2]), array([0, 3, 6]), 0],\n",
       " 'sum': [array([ 9, 12, 15]), array([ 3, 12, 21]), 36]}"
      ]
     },
     "execution_count": 23,
     "metadata": {},
     "output_type": "execute_result"
    }
   ],
   "source": [
    "import numpy as np\n",
    "\n",
    "def calculate(my_list):\n",
    "    ar = np.array(my_list).reshape((3,3))\n",
    "    ar_flat = ar.reshape(-1)\n",
    "    \n",
    "    # Mean\n",
    "    mean1 = np.mean(ar, axis=0)\n",
    "    mean2 = np.mean(ar, axis=1)\n",
    "    mean_flat = np.mean(ar_flat)\n",
    "    \n",
    "    # Variance\n",
    "    var1 = np.var(ar, axis=0)\n",
    "    var2 = np.var(ar, axis=1)\n",
    "    var_flat = np.var(ar_flat)\n",
    "    \n",
    "    # Standard Deviation\n",
    "    sd1 = np.std(ar, axis=0)\n",
    "    sd2 = np.std(ar, axis=1)\n",
    "    sd_flat = np.std(ar_flat)\n",
    "    \n",
    "    # Maximum\n",
    "    max1 = np.max(ar, axis=0)\n",
    "    max2 = np.max(ar, axis=1)\n",
    "    max_flat = np.max(ar_flat)\n",
    "    \n",
    "    # Minimum\n",
    "    min1 = np.min(ar, axis=0)\n",
    "    min2 = np.min(ar, axis=1)\n",
    "    min_flat = np.min(ar_flat)\n",
    "    \n",
    "    # Summation\n",
    "    sum1 = np.sum(ar, axis=0)\n",
    "    sum2 = np.sum(ar, axis=1)\n",
    "    sum_flat = np.sum(ar_flat)\n",
    "    \n",
    "    my_dict = {'mean': [mean1, mean2, mean_flat],\n",
    "               'variance': [var1, var2, var_flat],\n",
    "               'standard deviation': [sd1, sd2, sd_flat],\n",
    "               'max': [max1, max2, max_flat],\n",
    "               'min': [min1, min2, min_flat],\n",
    "               'sum': [sum1, sum2, sum_flat]\n",
    "               }\n",
    "    \n",
    "    return my_dict\n",
    "calculate([0,1,2,3,4,5,6,7,8])"
   ]
  },
  {
   "cell_type": "code",
   "execution_count": null,
   "metadata": {},
   "outputs": [],
   "source": []
  }
 ],
 "metadata": {
  "kernelspec": {
   "display_name": "Python 3",
   "language": "python",
   "name": "python3"
  },
  "language_info": {
   "codemirror_mode": {
    "name": "ipython",
    "version": 3
   },
   "file_extension": ".py",
   "mimetype": "text/x-python",
   "name": "python",
   "nbconvert_exporter": "python",
   "pygments_lexer": "ipython3",
   "version": "3.12.3"
  }
 },
 "nbformat": 4,
 "nbformat_minor": 2
}
